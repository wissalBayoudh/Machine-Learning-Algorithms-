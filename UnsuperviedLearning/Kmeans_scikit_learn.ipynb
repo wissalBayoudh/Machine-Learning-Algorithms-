{
 "cells": [
  {
   "cell_type": "markdown",
   "metadata": {},
   "source": [
    "### Objectif\n",
    "Chercher de nouveaux canaux d’importation d’automobiles sachant que le profil souhaité doit nécessairement satisfaire les contraintes logistiques et techniques : le plus semblable aux modèles européens  \n",
    "\n",
    "Etant donné que plusieurs marchés internationaux se présentent volontaires pour accomplir cette affaire. Une étude préliminaire sur ces marchés, mets à votre disposition un fichier contenant toutes les caractéristiques des modèles de véhicules disponible dans toutes les offres, en précisant pour \n",
    "chaque cas l’origine : Européen, Japonais ou Américain. Vous êtes invité à préparer un rapport décisif sous forme de présentation de l’origine le \n",
    "plus adapté au marché tunisien, et qui pourra remplacer le profil européen. "
   ]
  },
  {
   "cell_type": "code",
   "execution_count": 2,
   "metadata": {},
   "outputs": [],
   "source": [
    "import pandas as pd\n",
    "from sklearn.cluster import KMeans\n",
    "from sklearn.model_selection import train_test_split\n",
    "\n",
    "Voiture = pd.read_csv(\"Voitures_Origine.txt\", sep=\"\\t\")"
   ]
  },
  {
   "cell_type": "code",
   "execution_count": null,
   "metadata": {},
   "outputs": [],
   "source": []
  },
  {
   "cell_type": "code",
   "execution_count": 3,
   "metadata": {},
   "outputs": [
    {
     "name": "stdout",
     "output_type": "stream",
     "text": [
      "0 Numero\n",
      "1 mpg\n",
      "2 displacement\n",
      "3 horsepower\n",
      "4 weight\n",
      "5 acceleration\n",
      "6 origin\n"
     ]
    }
   ],
   "source": [
    "for i, v in enumerate(Voiture.columns):\n",
    "    print(i,v)"
   ]
  },
  {
   "cell_type": "code",
   "execution_count": null,
   "metadata": {},
   "outputs": [],
   "source": [
    "# Appliquer la méthode des centres mobiles : Kmeans avec le package « scikit-learn»\n"
   ]
  }
 ],
 "metadata": {
  "kernelspec": {
   "display_name": "Python 3",
   "language": "python",
   "name": "python3"
  },
  "language_info": {
   "codemirror_mode": {
    "name": "ipython",
    "version": 3
   },
   "file_extension": ".py",
   "mimetype": "text/x-python",
   "name": "python",
   "nbconvert_exporter": "python",
   "pygments_lexer": "ipython3",
   "version": "3.7.3"
  }
 },
 "nbformat": 4,
 "nbformat_minor": 4
}
